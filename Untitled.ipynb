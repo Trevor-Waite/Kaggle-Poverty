{
 "cells": [
  {
   "cell_type": "code",
   "execution_count": 1,
   "metadata": {},
   "outputs": [],
   "source": [
    "import pandas as pd\n",
    "import numpy as np"
   ]
  },
  {
   "cell_type": "code",
   "execution_count": 49,
   "metadata": {},
   "outputs": [],
   "source": [
    "train = pd.read_csv('train.csv')\n",
    "test = pd.read_csv('test.csv')"
   ]
  },
  {
   "cell_type": "code",
   "execution_count": 3,
   "metadata": {},
   "outputs": [
    {
     "data": {
      "text/html": [
       "<div>\n",
       "<style scoped>\n",
       "    .dataframe tbody tr th:only-of-type {\n",
       "        vertical-align: middle;\n",
       "    }\n",
       "\n",
       "    .dataframe tbody tr th {\n",
       "        vertical-align: top;\n",
       "    }\n",
       "\n",
       "    .dataframe thead th {\n",
       "        text-align: right;\n",
       "    }\n",
       "</style>\n",
       "<table border=\"1\" class=\"dataframe\">\n",
       "  <thead>\n",
       "    <tr style=\"text-align: right;\">\n",
       "      <th></th>\n",
       "      <th>Id</th>\n",
       "      <th>v2a1</th>\n",
       "      <th>hacdor</th>\n",
       "      <th>rooms</th>\n",
       "      <th>hacapo</th>\n",
       "      <th>v14a</th>\n",
       "      <th>refrig</th>\n",
       "      <th>v18q</th>\n",
       "      <th>v18q1</th>\n",
       "      <th>r4h1</th>\n",
       "      <th>...</th>\n",
       "      <th>SQBescolari</th>\n",
       "      <th>SQBage</th>\n",
       "      <th>SQBhogar_total</th>\n",
       "      <th>SQBedjefe</th>\n",
       "      <th>SQBhogar_nin</th>\n",
       "      <th>SQBovercrowding</th>\n",
       "      <th>SQBdependency</th>\n",
       "      <th>SQBmeaned</th>\n",
       "      <th>agesq</th>\n",
       "      <th>Target</th>\n",
       "    </tr>\n",
       "  </thead>\n",
       "  <tbody>\n",
       "    <tr>\n",
       "      <th>0</th>\n",
       "      <td>ID_279628684</td>\n",
       "      <td>190000.0</td>\n",
       "      <td>0</td>\n",
       "      <td>3</td>\n",
       "      <td>0</td>\n",
       "      <td>1</td>\n",
       "      <td>1</td>\n",
       "      <td>0</td>\n",
       "      <td>NaN</td>\n",
       "      <td>0</td>\n",
       "      <td>...</td>\n",
       "      <td>100</td>\n",
       "      <td>1849</td>\n",
       "      <td>1</td>\n",
       "      <td>100</td>\n",
       "      <td>0</td>\n",
       "      <td>1.000000</td>\n",
       "      <td>0.0</td>\n",
       "      <td>100.0</td>\n",
       "      <td>1849</td>\n",
       "      <td>4</td>\n",
       "    </tr>\n",
       "    <tr>\n",
       "      <th>1</th>\n",
       "      <td>ID_f29eb3ddd</td>\n",
       "      <td>135000.0</td>\n",
       "      <td>0</td>\n",
       "      <td>4</td>\n",
       "      <td>0</td>\n",
       "      <td>1</td>\n",
       "      <td>1</td>\n",
       "      <td>1</td>\n",
       "      <td>1.0</td>\n",
       "      <td>0</td>\n",
       "      <td>...</td>\n",
       "      <td>144</td>\n",
       "      <td>4489</td>\n",
       "      <td>1</td>\n",
       "      <td>144</td>\n",
       "      <td>0</td>\n",
       "      <td>1.000000</td>\n",
       "      <td>64.0</td>\n",
       "      <td>144.0</td>\n",
       "      <td>4489</td>\n",
       "      <td>4</td>\n",
       "    </tr>\n",
       "    <tr>\n",
       "      <th>2</th>\n",
       "      <td>ID_68de51c94</td>\n",
       "      <td>NaN</td>\n",
       "      <td>0</td>\n",
       "      <td>8</td>\n",
       "      <td>0</td>\n",
       "      <td>1</td>\n",
       "      <td>1</td>\n",
       "      <td>0</td>\n",
       "      <td>NaN</td>\n",
       "      <td>0</td>\n",
       "      <td>...</td>\n",
       "      <td>121</td>\n",
       "      <td>8464</td>\n",
       "      <td>1</td>\n",
       "      <td>0</td>\n",
       "      <td>0</td>\n",
       "      <td>0.250000</td>\n",
       "      <td>64.0</td>\n",
       "      <td>121.0</td>\n",
       "      <td>8464</td>\n",
       "      <td>4</td>\n",
       "    </tr>\n",
       "    <tr>\n",
       "      <th>3</th>\n",
       "      <td>ID_d671db89c</td>\n",
       "      <td>180000.0</td>\n",
       "      <td>0</td>\n",
       "      <td>5</td>\n",
       "      <td>0</td>\n",
       "      <td>1</td>\n",
       "      <td>1</td>\n",
       "      <td>1</td>\n",
       "      <td>1.0</td>\n",
       "      <td>0</td>\n",
       "      <td>...</td>\n",
       "      <td>81</td>\n",
       "      <td>289</td>\n",
       "      <td>16</td>\n",
       "      <td>121</td>\n",
       "      <td>4</td>\n",
       "      <td>1.777778</td>\n",
       "      <td>1.0</td>\n",
       "      <td>121.0</td>\n",
       "      <td>289</td>\n",
       "      <td>4</td>\n",
       "    </tr>\n",
       "    <tr>\n",
       "      <th>4</th>\n",
       "      <td>ID_d56d6f5f5</td>\n",
       "      <td>180000.0</td>\n",
       "      <td>0</td>\n",
       "      <td>5</td>\n",
       "      <td>0</td>\n",
       "      <td>1</td>\n",
       "      <td>1</td>\n",
       "      <td>1</td>\n",
       "      <td>1.0</td>\n",
       "      <td>0</td>\n",
       "      <td>...</td>\n",
       "      <td>121</td>\n",
       "      <td>1369</td>\n",
       "      <td>16</td>\n",
       "      <td>121</td>\n",
       "      <td>4</td>\n",
       "      <td>1.777778</td>\n",
       "      <td>1.0</td>\n",
       "      <td>121.0</td>\n",
       "      <td>1369</td>\n",
       "      <td>4</td>\n",
       "    </tr>\n",
       "  </tbody>\n",
       "</table>\n",
       "<p>5 rows × 143 columns</p>\n",
       "</div>"
      ],
      "text/plain": [
       "             Id      v2a1  hacdor  rooms  hacapo  v14a  refrig  v18q  v18q1  \\\n",
       "0  ID_279628684  190000.0       0      3       0     1       1     0    NaN   \n",
       "1  ID_f29eb3ddd  135000.0       0      4       0     1       1     1    1.0   \n",
       "2  ID_68de51c94       NaN       0      8       0     1       1     0    NaN   \n",
       "3  ID_d671db89c  180000.0       0      5       0     1       1     1    1.0   \n",
       "4  ID_d56d6f5f5  180000.0       0      5       0     1       1     1    1.0   \n",
       "\n",
       "   r4h1   ...    SQBescolari  SQBage  SQBhogar_total  SQBedjefe  SQBhogar_nin  \\\n",
       "0     0   ...            100    1849               1        100             0   \n",
       "1     0   ...            144    4489               1        144             0   \n",
       "2     0   ...            121    8464               1          0             0   \n",
       "3     0   ...             81     289              16        121             4   \n",
       "4     0   ...            121    1369              16        121             4   \n",
       "\n",
       "   SQBovercrowding  SQBdependency  SQBmeaned  agesq  Target  \n",
       "0         1.000000            0.0      100.0   1849       4  \n",
       "1         1.000000           64.0      144.0   4489       4  \n",
       "2         0.250000           64.0      121.0   8464       4  \n",
       "3         1.777778            1.0      121.0    289       4  \n",
       "4         1.777778            1.0      121.0   1369       4  \n",
       "\n",
       "[5 rows x 143 columns]"
      ]
     },
     "execution_count": 3,
     "metadata": {},
     "output_type": "execute_result"
    }
   ],
   "source": [
    "train.head()"
   ]
  },
  {
   "cell_type": "code",
   "execution_count": 19,
   "metadata": {},
   "outputs": [
    {
     "name": "stdout",
     "output_type": "stream",
     "text": [
      "<class 'pandas.core.frame.DataFrame'>\n",
      "RangeIndex: 9557 entries, 0 to 9556\n",
      "Data columns (total 143 columns):\n",
      "Id                 object\n",
      "v2a1               float64\n",
      "hacdor             int64\n",
      "rooms              int64\n",
      "hacapo             int64\n",
      "v14a               int64\n",
      "refrig             int64\n",
      "v18q               int64\n",
      "v18q1              float64\n",
      "r4h1               int64\n",
      "r4h2               int64\n",
      "r4h3               int64\n",
      "r4m1               int64\n",
      "r4m2               int64\n",
      "r4m3               int64\n",
      "r4t1               int64\n",
      "r4t2               int64\n",
      "r4t3               int64\n",
      "tamhog             int64\n",
      "tamviv             int64\n",
      "escolari           int64\n",
      "rez_esc            float64\n",
      "hhsize             int64\n",
      "paredblolad        int64\n",
      "paredzocalo        int64\n",
      "paredpreb          int64\n",
      "pareddes           int64\n",
      "paredmad           int64\n",
      "paredzinc          int64\n",
      "paredfibras        int64\n",
      "paredother         int64\n",
      "pisomoscer         int64\n",
      "pisocemento        int64\n",
      "pisoother          int64\n",
      "pisonatur          int64\n",
      "pisonotiene        int64\n",
      "pisomadera         int64\n",
      "techozinc          int64\n",
      "techoentrepiso     int64\n",
      "techocane          int64\n",
      "techootro          int64\n",
      "cielorazo          int64\n",
      "abastaguadentro    int64\n",
      "abastaguafuera     int64\n",
      "abastaguano        int64\n",
      "public             int64\n",
      "planpri            int64\n",
      "noelec             int64\n",
      "coopele            int64\n",
      "sanitario1         int64\n",
      "sanitario2         int64\n",
      "sanitario3         int64\n",
      "sanitario5         int64\n",
      "sanitario6         int64\n",
      "energcocinar1      int64\n",
      "energcocinar2      int64\n",
      "energcocinar3      int64\n",
      "energcocinar4      int64\n",
      "elimbasu1          int64\n",
      "elimbasu2          int64\n",
      "elimbasu3          int64\n",
      "elimbasu4          int64\n",
      "elimbasu5          int64\n",
      "elimbasu6          int64\n",
      "epared1            int64\n",
      "epared2            int64\n",
      "epared3            int64\n",
      "etecho1            int64\n",
      "etecho2            int64\n",
      "etecho3            int64\n",
      "eviv1              int64\n",
      "eviv2              int64\n",
      "eviv3              int64\n",
      "dis                int64\n",
      "male               int64\n",
      "female             int64\n",
      "estadocivil1       int64\n",
      "estadocivil2       int64\n",
      "estadocivil3       int64\n",
      "estadocivil4       int64\n",
      "estadocivil5       int64\n",
      "estadocivil6       int64\n",
      "estadocivil7       int64\n",
      "parentesco1        int64\n",
      "parentesco2        int64\n",
      "parentesco3        int64\n",
      "parentesco4        int64\n",
      "parentesco5        int64\n",
      "parentesco6        int64\n",
      "parentesco7        int64\n",
      "parentesco8        int64\n",
      "parentesco9        int64\n",
      "parentesco10       int64\n",
      "parentesco11       int64\n",
      "parentesco12       int64\n",
      "idhogar            object\n",
      "hogar_nin          int64\n",
      "hogar_adul         int64\n",
      "hogar_mayor        int64\n",
      "hogar_total        int64\n",
      "dependency         object\n",
      "edjefe             object\n",
      "edjefa             object\n",
      "meaneduc           float64\n",
      "instlevel1         int64\n",
      "instlevel2         int64\n",
      "instlevel3         int64\n",
      "instlevel4         int64\n",
      "instlevel5         int64\n",
      "instlevel6         int64\n",
      "instlevel7         int64\n",
      "instlevel8         int64\n",
      "instlevel9         int64\n",
      "bedrooms           int64\n",
      "overcrowding       float64\n",
      "tipovivi1          int64\n",
      "tipovivi2          int64\n",
      "tipovivi3          int64\n",
      "tipovivi4          int64\n",
      "tipovivi5          int64\n",
      "computer           int64\n",
      "television         int64\n",
      "mobilephone        int64\n",
      "qmobilephone       int64\n",
      "lugar1             int64\n",
      "lugar2             int64\n",
      "lugar3             int64\n",
      "lugar4             int64\n",
      "lugar5             int64\n",
      "lugar6             int64\n",
      "area1              int64\n",
      "area2              int64\n",
      "age                int64\n",
      "SQBescolari        int64\n",
      "SQBage             int64\n",
      "SQBhogar_total     int64\n",
      "SQBedjefe          int64\n",
      "SQBhogar_nin       int64\n",
      "SQBovercrowding    float64\n",
      "SQBdependency      float64\n",
      "SQBmeaned          float64\n",
      "agesq              int64\n",
      "Target             int64\n",
      "dtypes: float64(8), int64(130), object(5)\n",
      "memory usage: 10.4+ MB\n",
      "None\n",
      "<class 'pandas.core.frame.DataFrame'>\n",
      "RangeIndex: 23856 entries, 0 to 23855\n",
      "Columns: 142 entries, Id to agesq\n",
      "dtypes: float64(8), int64(129), object(5)\n",
      "memory usage: 25.8+ MB\n",
      "None\n"
     ]
    }
   ],
   "source": [
    "print(train.info(verbose=True))\n",
    "print(test.info())"
   ]
  },
  {
   "cell_type": "code",
   "execution_count": 9,
   "metadata": {},
   "outputs": [
    {
     "name": "stdout",
     "output_type": "stream",
     "text": [
      "Total Test Features with NaN Values = 5\n",
      "Features with NaN => ['v2a1', 'v18q1', 'rez_esc', 'meaneduc', 'SQBmeaned']\n"
     ]
    }
   ],
   "source": [
    "#### Check if there are any NULL values in Test Data\n",
    "print(\"Total Test Features with NaN Values = \" + str(test.columns[test.isnull().sum() != 0].size))\n",
    "if (test.columns[test.isnull().sum() != 0].size):\n",
    "    print(\"Features with NaN => {}\".format(list(test.columns[test.isnull().sum() != 0])))\n",
    "    test[test.columns[test.isnull().sum() != 0]].isnull().sum().sort_values(ascending = False)"
   ]
  },
  {
   "cell_type": "code",
   "execution_count": 8,
   "metadata": {},
   "outputs": [
    {
     "name": "stdout",
     "output_type": "stream",
     "text": [
      "Total Train Features with NaN Values = 5\n",
      "Features with NaN => ['v2a1', 'v18q1', 'rez_esc', 'meaneduc', 'SQBmeaned']\n"
     ]
    }
   ],
   "source": [
    "#### Check if there are any NULL values in Train Data\n",
    "print(\"Total Train Features with NaN Values = \" + str(train.columns[train.isnull().sum() != 0].size))\n",
    "if (train.columns[train.isnull().sum() != 0].size):\n",
    "    print(\"Features with NaN => {}\".format(list(train.columns[train.isnull().sum() != 0])))\n",
    "    train[train.columns[train.isnull().sum() != 0]].isnull().sum().sort_values(ascending = False)"
   ]
  },
  {
   "cell_type": "code",
   "execution_count": 52,
   "metadata": {},
   "outputs": [
    {
     "name": "stdout",
     "output_type": "stream",
     "text": [
      "Removed: []\n"
     ]
    }
   ],
   "source": [
    "remove = []\n",
    "\n",
    "for col in list(train.columns[train.isnull().sum() != 0]):\n",
    "    print(\"{}: {}\".format(col, train[col].isnull().sum()/len(train)))\n",
    "    if train[col].isnull().sum()/len(train) > 0.7:\n",
    "        remove.append(col)\n",
    "        \n",
    "train.drop(remove,axis=1,inplace=True)\n",
    "test.drop(remove,axis=1,inplace=True)\n",
    "\n",
    "print(\"Removed: {}\".format(remove))\n"
   ]
  },
  {
   "cell_type": "code",
   "execution_count": 51,
   "metadata": {},
   "outputs": [],
   "source": [
    "train.fillna(train.mean(),inplace=True)\n",
    "test.fillna(train.mean(),inplace=True)"
   ]
  },
  {
   "cell_type": "code",
   "execution_count": 53,
   "metadata": {},
   "outputs": [
    {
     "data": {
      "text/plain": [
       "['Id', 'idhogar', 'dependency', 'edjefe', 'edjefa']"
      ]
     },
     "execution_count": 53,
     "metadata": {},
     "output_type": "execute_result"
    }
   ],
   "source": [
    "objects = []\n",
    "for col in train.columns:\n",
    "    if train[col].dtype == 'object':\n",
    "        objects.append(col)\n",
    "objects"
   ]
  },
  {
   "cell_type": "code",
   "execution_count": 54,
   "metadata": {},
   "outputs": [],
   "source": [
    "train.drop(objects,axis=1,inplace=True)\n",
    "test.drop(objects,axis=1,inplace=True)"
   ]
  },
  {
   "cell_type": "code",
   "execution_count": 55,
   "metadata": {},
   "outputs": [
    {
     "name": "stdout",
     "output_type": "stream",
     "text": [
      "Removed `1` Constant Columns\n",
      "\n",
      "['elimbasu5']\n"
     ]
    }
   ],
   "source": [
    "#### Check and remove constant columns\n",
    "colsToRemove = []\n",
    "for col in train.columns:\n",
    "    if train[col].std() == 0: \n",
    "        colsToRemove.append(col)\n",
    "        \n",
    "# remove constant columns in the train_Xing set\n",
    "train.drop(colsToRemove, axis=1, inplace=True)\n",
    "\n",
    "# remove constant columns in the test set\n",
    "test.drop(colsToRemove, axis=1, inplace=True) \n",
    "\n",
    "print(\"Removed `{}` Constant Columns\\n\".format(len(colsToRemove)))\n",
    "print(colsToRemove)"
   ]
  },
  {
   "cell_type": "code",
   "execution_count": 56,
   "metadata": {},
   "outputs": [
    {
     "name": "stdout",
     "output_type": "stream",
     "text": [
      "Removed `2` Duplicate Columns\n",
      "\n",
      "{'tamhog': ['hhsize', 'hogar_total'], 'SQBage': ['agesq']}\n"
     ]
    }
   ],
   "source": [
    "##### Check and remove duplicate columns\n",
    "colsToRemove = []\n",
    "colsScaned = []\n",
    "dupList = {}\n",
    "\n",
    "columns = train.columns\n",
    "\n",
    "for i in range(len(columns)-1):\n",
    "    v = train[columns[i]].values\n",
    "    dupCols = []\n",
    "    for j in range(i+1,len(columns)):\n",
    "        if np.array_equal(v, train[columns[j]].values):\n",
    "            colsToRemove.append(columns[j])\n",
    "            if columns[j] not in colsScaned:\n",
    "                dupCols.append(columns[j]) \n",
    "                colsScaned.append(columns[j])\n",
    "                dupList[columns[i]] = dupCols\n",
    "                \n",
    "# remove duplicate columns in the training set\n",
    "train.drop(colsToRemove, axis=1, inplace=True) \n",
    "\n",
    "# remove duplicate columns in the testing set\n",
    "test.drop(colsToRemove, axis=1, inplace=True)\n",
    "\n",
    "print(\"Removed `{}` Duplicate Columns\\n\".format(len(dupList)))\n",
    "print(dupList)\n"
   ]
  },
  {
   "cell_type": "code",
   "execution_count": 58,
   "metadata": {},
   "outputs": [],
   "source": [
    "#### drop sparse data\n",
    "def drop_sparse(train, test):\n",
    "    flist = [x for x in train.columns]\n",
    "    for f in flist:\n",
    "        if len(np.unique(train[f]))<2:\n",
    "            train.drop(f, axis=1, inplace=True)\n",
    "            test.drop(f, axis=1, inplace=True)\n",
    "    return train, test\n",
    "\n",
    "train, test = drop_sparse(train, test)"
   ]
  },
  {
   "cell_type": "code",
   "execution_count": 59,
   "metadata": {},
   "outputs": [
    {
     "name": "stdout",
     "output_type": "stream",
     "text": [
      "Train set size: (9557, 131)\n",
      "Test set size: (23856, 130)\n"
     ]
    }
   ],
   "source": [
    "print(\"Train set size: {}\".format(train.shape))\n",
    "print(\"Test set size: {}\".format(test.shape))"
   ]
  },
  {
   "cell_type": "code",
   "execution_count": null,
   "metadata": {},
   "outputs": [],
   "source": [
    "train_y = train['target']\n",
    "del"
   ]
  }
 ],
 "metadata": {
  "kernelspec": {
   "display_name": "Python 3",
   "language": "python",
   "name": "python3"
  },
  "language_info": {
   "codemirror_mode": {
    "name": "ipython",
    "version": 3
   },
   "file_extension": ".py",
   "mimetype": "text/x-python",
   "name": "python",
   "nbconvert_exporter": "python",
   "pygments_lexer": "ipython3",
   "version": "3.6.4"
  }
 },
 "nbformat": 4,
 "nbformat_minor": 2
}
